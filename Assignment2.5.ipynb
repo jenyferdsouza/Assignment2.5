{
 "cells": [
  {
   "cell_type": "code",
   "execution_count": 1,
   "metadata": {
    "collapsed": true
   },
   "outputs": [],
   "source": [
    "#Problem Statement 1:  \n",
    "#Write a Python program using function concept that maps  list of words into a list of integers representing the lengths of the corresponding words​.  Hint: ​If a list [ ab,cde,erty] is passed on to the python function output should come as [2,3,4]  \n",
    "#Here 2,3 and 4 are the lengths of the words in the list. "
   ]
  },
  {
   "cell_type": "code",
   "execution_count": 3,
   "metadata": {},
   "outputs": [
    {
     "name": "stdout",
     "output_type": "stream",
     "text": [
      "[5, 8, 11, 10, 5, 4, 5, 4, 7, 10, 11, 4, 7, 8, 9, 4, 9, 6, 7, 7]\n"
     ]
    }
   ],
   "source": [
    "def returnlen(lst):\n",
    "    lstlen=list()\n",
    "    for wrd in lst:\n",
    "        lstlen.append(len(wrd))\n",
    "    return lstlen\n",
    "\n",
    "chklst=['scale','contrary','continental','attractive','petty','lead','queue','dish','diagram','negligence','comfortable','duck','despair','absolute','gas pedal','bike','treatment','moment','freckle','replace']\n",
    "\n",
    "print(returnlen(chklst))"
   ]
  },
  {
   "cell_type": "code",
   "execution_count": 4,
   "metadata": {
    "collapsed": true
   },
   "outputs": [],
   "source": [
    "#Problem Statement 2:  \n",
    "#Write a Python function which takes a character (i.e. a string of length 1) and returns True if it is a vowel, False otherwise#. "
   ]
  },
  {
   "cell_type": "code",
   "execution_count": 7,
   "metadata": {},
   "outputs": [
    {
     "name": "stdout",
     "output_type": "stream",
     "text": [
      "True\n",
      "False\n",
      "True\n",
      "False\n"
     ]
    }
   ],
   "source": [
    "def isvowel(chr1):\n",
    "    vowel=['a','e','i','o','u']\n",
    "    for chr in vowel:\n",
    "        if chr1==chr:\n",
    "            return True\n",
    "            break\n",
    "    else:\n",
    "            return False\n",
    "\n",
    "print(isvowel('a'))            \n",
    "print(isvowel('v'))            \n",
    "print(isvowel('u'))            \n",
    "print(isvowel('d'))            \n",
    "\n"
   ]
  }
 ],
 "metadata": {
  "kernelspec": {
   "display_name": "Python 3",
   "language": "python",
   "name": "python3"
  },
  "language_info": {
   "codemirror_mode": {
    "name": "ipython",
    "version": 3
   },
   "file_extension": ".py",
   "mimetype": "text/x-python",
   "name": "python",
   "nbconvert_exporter": "python",
   "pygments_lexer": "ipython3",
   "version": "3.6.3"
  }
 },
 "nbformat": 4,
 "nbformat_minor": 2
}
